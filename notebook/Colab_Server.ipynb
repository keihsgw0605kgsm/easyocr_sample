{
  "nbformat": 4,
  "nbformat_minor": 0,
  "metadata": {
    "colab": {
      "provenance": []
    },
    "kernelspec": {
      "name": "python3",
      "display_name": "Python 3"
    },
    "language_info": {
      "name": "python"
    }
  },
  "cells": [
    {
      "cell_type": "markdown",
      "source": [
        "# Colab Server"
      ],
      "metadata": {
        "id": "BqN_szLuXZ0z"
      }
    },
    {
      "cell_type": "markdown",
      "source": [
        "1. **Get ngrok token**\n",
        " * Go to https://dashboard.ngrok.com/auth/your-authtoken (sign up if required), copy your authtoken and put it below."
      ],
      "metadata": {
        "id": "tRb4GYTxXv5A"
      }
    },
    {
      "cell_type": "code",
      "source": [
        "authtoken = \"YOUR AUTHTOKEN\""
      ],
      "metadata": {
        "id": "n4OO69esYOPw"
      },
      "execution_count": null,
      "outputs": []
    },
    {
      "cell_type": "markdown",
      "source": [
        "2. **Set your passport**\n",
        " * Put your password bellow."
      ],
      "metadata": {
        "id": "e4cSSGZGYS-I"
      }
    },
    {
      "cell_type": "code",
      "source": [
        "password = \"YOUR PASSWORD\""
      ],
      "metadata": {
        "id": "4W0g0rApYRSP"
      },
      "execution_count": null,
      "outputs": []
    },
    {
      "cell_type": "markdown",
      "source": [
        "3. **Open ngrok tunnel**"
      ],
      "metadata": {
        "id": "mlpODNblakLv"
      }
    },
    {
      "cell_type": "code",
      "execution_count": null,
      "metadata": {
        "id": "D0LhVnfr0Kb9"
      },
      "outputs": [],
      "source": [
        "! apt install --yes ssh screen nano htop ranger git > /dev/null\n",
        "# SSH setting\n",
        "! echo \"root:$password\" | chpasswd\n",
        "! echo \"PasswordAuthentication yes\" > /etc/ssh/sshd_config\n",
        "! echo \"PermitUserEnvironment yes\" >> /etc/ssh/sshd_config\n",
        "! echo \"PermitRootLogin yes\" >> /etc/ssh/sshd_config\n",
        "! service ssh restart > /dev/null\n",
        "# Download ngrok\n",
        "! wget -q -c -nc https://bin.equinox.io/c/4VmDzA7iaHb/ngrok-stable-linux-amd64.zip\n",
        "! unzip -qq -n ngrok-stable-linux-amd64.zip\n",
        "# Run ngrok\n",
        "get_ipython().system_raw('./ngrok authtoken $authtoken && ./ngrok tcp 22 &')\n",
        "! sleep 3\n",
        "# Get the address for SSH\n",
        "import requests\n",
        "from re import sub\n",
        "r = requests.get('http://localhost:4040/api/tunnels')\n",
        "str_ssh = r.json()['tunnels'][0]['public_url']\n",
        "str_ssh = sub(\"tcp://\", \"\", str_ssh)\n",
        "str_ssh = sub(\":\", \" -p \", str_ssh)\n",
        "str_ssh = \"ssh root@\" + str_ssh\n",
        "print(str_ssh)"
      ]
    },
    {
      "cell_type": "markdown",
      "source": [
        "4. **Copy-paste to the terminal the command above and run**"
      ],
      "metadata": {
        "id": "2a94T3hIeb2t"
      }
    },
    {
      "cell_type": "code",
      "source": [],
      "metadata": {
        "id": "WBor2HjJNqnW"
      },
      "execution_count": null,
      "outputs": []
    }
  ]
}